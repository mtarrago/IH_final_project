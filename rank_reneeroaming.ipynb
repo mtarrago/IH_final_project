{
 "cells": [
  {
   "cell_type": "code",
   "execution_count": 2,
   "metadata": {},
   "outputs": [],
   "source": [
    "#importing all the necessary libraries\n",
    "import pandas as pd\n",
    "from bs4 import BeautifulSoup\n",
    "import requests\n",
    "import numpy as np"
   ]
  },
  {
   "cell_type": "code",
   "execution_count": 3,
   "metadata": {},
   "outputs": [],
   "source": [
    "#defining the url to scrape\n",
    "url = 'https://www.reneeroaming.com/americas-national-parks/'\n",
    "\n",
    "#requesting the results from the site\n",
    "response = requests.get(url)\n",
    "#making the results readable\n",
    "soup = BeautifulSoup(response.content, 'html.parser')"
   ]
  },
  {
   "cell_type": "code",
   "execution_count": 4,
   "metadata": {},
   "outputs": [
    {
     "data": {
      "text/plain": [
       "[<h4 class=\"wp-block-heading\" id=\"h-1-grand-teton-national-park\">1. Grand Teton National Park</h4>,\n",
       " <h4 class=\"wp-block-heading\" id=\"h-2-kenai-fjords-national-park\">2. Kenai Fjords National Park</h4>,\n",
       " <h4 class=\"wp-block-heading\" id=\"h-3-wrangell-st-elias-national-park\">3. Wrangell St. Elias National Park</h4>,\n",
       " <h4 class=\"wp-block-heading\" id=\"h-4-denali-national-park\">4. Denali National Park</h4>,\n",
       " <h4 class=\"wp-block-heading\" id=\"h-5-mount-rainier-national-park\">5. Mount Rainier National Park</h4>,\n",
       " <h4 class=\"wp-block-heading\" id=\"h-6-yosemite-national-park\">6. Yosemite National Park</h4>,\n",
       " <h4 class=\"wp-block-heading\" id=\"h-7-glacier-bay-national-park\">7. Glacier Bay National Park</h4>,\n",
       " <h4 class=\"wp-block-heading\" id=\"h-8-glacier-national-park\">8. Glacier National Park</h4>,\n",
       " <h4 class=\"wp-block-heading\" id=\"h-9-katmai-national-park\">9. Katmai National Park</h4>,\n",
       " <h4 class=\"wp-block-heading\" id=\"h-10-lake-clark-national-park\">10. Lake Clark National Park</h4>,\n",
       " <h4 class=\"wp-block-heading\" id=\"h-11-olympic-national-park\">11. Olympic National Park</h4>,\n",
       " <h4 class=\"wp-block-heading\" id=\"h-12-bryce-canyon-national-park\">12. Bryce Canyon National Park</h4>,\n",
       " <h4 class=\"wp-block-heading\" id=\"h-13-great-smoky-mountains-national-park\">13. Great Smoky Mountains National Park</h4>,\n",
       " <h4 class=\"wp-block-heading\" id=\"h-14-kings-canyon-national-park\">14. Kings Canyon National Park</h4>,\n",
       " <h4 class=\"wp-block-heading\" id=\"h-15-rocky-mountain-national-park\">15. Rocky Mountain National Park</h4>,\n",
       " <h4 class=\"wp-block-heading\" id=\"h-16-yellowstone-national-park\">16. Yellowstone National Park</h4>,\n",
       " <h4 class=\"wp-block-heading\" id=\"h-17-death-valley-national-park\">17. Death Valley National Park</h4>,\n",
       " <h4 class=\"wp-block-heading\" id=\"h-18-grand-canyon-national-park\">18. Grand Canyon National Park</h4>,\n",
       " <h4 class=\"wp-block-heading\" id=\"h-19-zion-national-park\">19. Zion National Park</h4>,\n",
       " <h4 class=\"wp-block-heading\" id=\"h-20-big-bend-national-park\">20. Big Bend National Park</h4>,\n",
       " <h4 class=\"wp-block-heading\" id=\"h-21-north-cascades-national-park\">21. North Cascades National Park</h4>,\n",
       " <h4 class=\"wp-block-heading\" id=\"h-22-redwood-national-park-and-state-parks\">22. Redwood National Park (and State Parks)</h4>,\n",
       " <h4 class=\"wp-block-heading\" id=\"h-23-arches-national-park\">23. Arches National Park</h4>,\n",
       " <h4 class=\"wp-block-heading\" id=\"h-24-crater-lake-national-park\">24. Crater Lake National Park</h4>,\n",
       " <h4 class=\"wp-block-heading\" id=\"h-25-acadia-national-park\">25. Acadia National Park</h4>,\n",
       " <h4 class=\"wp-block-heading\" id=\"h-26-great-basin-national-park\">26. Great Basin National Park</h4>,\n",
       " <h4 class=\"wp-block-heading\" id=\"h-27-shenandoah-national-park\">27. Shenandoah National Park</h4>,\n",
       " <h4 class=\"wp-block-heading\" id=\"h-28-virgin-islands-national-park\">28. Virgin Islands National Park</h4>,\n",
       " <h4 class=\"wp-block-heading\" id=\"h-29-hawai-i-volcanoes-national-park\">29. Hawai’i Volcanoes National Park</h4>,\n",
       " <h4 class=\"wp-block-heading\" id=\"h-30-lassen-volcanic-national-park\">30. Lassen Volcanic National Park</h4>,\n",
       " <h4 class=\"wp-block-heading\" id=\"h-31-joshua-tree-national-park\">31. Joshua Tree National Park</h4>,\n",
       " <h4 class=\"wp-block-heading\" id=\"h-32-haleakala-national-park\">32. Haleakalā National Park</h4>,\n",
       " <h4 class=\"wp-block-heading\" id=\"h-33-canyonlands-national-park\">33. Canyonlands National Park</h4>,\n",
       " <h4 class=\"wp-block-heading\" id=\"h-34-sequoia-national-park\">34. Sequoia National Park</h4>,\n",
       " <h4 class=\"wp-block-heading\" id=\"h-35-great-sand-dunes-national-park\">35. Great Sand Dunes National Park</h4>,\n",
       " <h4 class=\"wp-block-heading\" id=\"h-36-badlands-national-park\">36. Badlands National Park</h4>,\n",
       " <h4 class=\"wp-block-heading\" id=\"h-37-isle-royale-national-park\">37. Isle Royale National Park</h4>,\n",
       " <h4 class=\"wp-block-heading\" id=\"h-38-national-park-of-american-samoa\">38. National Park of American Samoa</h4>,\n",
       " <h4 class=\"wp-block-heading\" id=\"h-39-saguaro-national-park\">39. Saguaro National Park</h4>,\n",
       " <h4 class=\"wp-block-heading\" id=\"h-40-carlsbad-caverns-national-park\">40. Carlsbad Caverns National Park</h4>,\n",
       " <h4 class=\"wp-block-heading\" id=\"h-41-mesa-verde-national-park\">41. Mesa Verde National Park</h4>,\n",
       " <h4 class=\"wp-block-heading\" id=\"h-42-capitol-reef-national-park\">42. Capitol Reef National Park</h4>,\n",
       " <h4 class=\"wp-block-heading\" id=\"h-43-gates-of-the-arctic-national-park\">43. Gates of the Arctic National Park</h4>,\n",
       " <h4 class=\"wp-block-heading\" id=\"h-44-mammoth-cave-national-park\">44. Mammoth Cave National Park</h4>,\n",
       " <h4 class=\"wp-block-heading\" id=\"h-45-hot-springs-national-park\">45. Hot Springs National Park</h4>,\n",
       " <h4 class=\"wp-block-heading\" id=\"h-46-petrified-forest-national-park\">46. Petrified Forest National Park</h4>,\n",
       " <h4 class=\"wp-block-heading\" id=\"h-47-everglades-national-park\">47. Everglades National Park</h4>,\n",
       " <h4 class=\"wp-block-heading\" id=\"h-48-theodore-roosevelt-national-park\">48. Theodore Roosevelt National Park</h4>,\n",
       " <h4 class=\"wp-block-heading\" id=\"h-49-black-canyon-of-the-gunnison-national-park\">49. Black Canyon of the Gunnison National Park</h4>,\n",
       " <h4 class=\"wp-block-heading\" id=\"h-50-guadalupe-mountains-national-park\">50. Guadalupe Mountains National Park</h4>,\n",
       " <h4 class=\"wp-block-heading\" id=\"h-51-dry-tortugas-national-park\">51. Dry Tortugas National Park</h4>,\n",
       " <h4 class=\"wp-block-heading\" id=\"h-52-voyageurs-national-park\">52. Voyageurs National Park</h4>,\n",
       " <h4 class=\"wp-block-heading\" id=\"h-53-wind-cave-national-park\">53. Wind Cave National Park</h4>,\n",
       " <h4 class=\"wp-block-heading\" id=\"h-54-cuyahoga-valley-national-park\">54. Cuyahoga Valley National Park</h4>,\n",
       " <h4 class=\"wp-block-heading\" id=\"h-55-kobuk-valley-national-park\">55. Kobuk Valley National Park</h4>,\n",
       " <h4 class=\"wp-block-heading\" id=\"h-56-channel-islands-national-park\">56. Channel Islands National Park</h4>,\n",
       " <h4 class=\"wp-block-heading\" id=\"h-57-pinnacles-national-park\">57. Pinnacles National Park</h4>,\n",
       " <h4 class=\"wp-block-heading\" id=\"h-58-biscayne-national-park\">58. Biscayne National Park</h4>,\n",
       " <h4 class=\"wp-block-heading\" id=\"h-59-congaree-national-park\">59. Congaree National Park</h4>,\n",
       " <h4 class=\"has-text-align-center wp-block-heading\" id=\"h-how-long-is-your-national-park-bucket-list-now\" style=\"font-size:25px\">How long is your National Park bucket list now?!</h4>]"
      ]
     },
     "execution_count": 4,
     "metadata": {},
     "output_type": "execute_result"
    }
   ],
   "source": [
    "#find the elements at the h4 level in the desired class\n",
    "h4_elements = soup.find_all(name='h4', class_=\"wp-block-heading\")\n",
    "h4_elements"
   ]
  },
  {
   "cell_type": "code",
   "execution_count": null,
   "metadata": {},
   "outputs": [],
   "source": [
    "#modifying the scraped elements to extract the park names\n",
    "new_list = []\n",
    "for i in h4_elements:\n",
    "    i = str(i).split('. ')\n",
    "    new_list.append(i)"
   ]
  },
  {
   "cell_type": "code",
   "execution_count": 12,
   "metadata": {},
   "outputs": [],
   "source": [
    "#modifying the scraped elements to extract the park names\n",
    "new_list2 = []\n",
    "for i in new_list:\n",
    "    i = str(i[1]).split('<')\n",
    "    new_list2.append(i[0])\n"
   ]
  },
  {
   "cell_type": "code",
   "execution_count": 32,
   "metadata": {},
   "outputs": [],
   "source": [
    "#store the elements in a dataframe and save the dataframe to a csv file\n",
    "final = pd.DataFrame({'rank_reneeroaming':(np.arange(1,len(new_list2)+1)),'parks_ranked':new_list2})\n",
    "final.to_csv('rank_reneeroaming.csv')"
   ]
  }
 ],
 "metadata": {
  "kernelspec": {
   "display_name": "Python 3",
   "language": "python",
   "name": "python3"
  },
  "language_info": {
   "codemirror_mode": {
    "name": "ipython",
    "version": 3
   },
   "file_extension": ".py",
   "mimetype": "text/x-python",
   "name": "python",
   "nbconvert_exporter": "python",
   "pygments_lexer": "ipython3",
   "version": "3.9.18"
  }
 },
 "nbformat": 4,
 "nbformat_minor": 2
}
