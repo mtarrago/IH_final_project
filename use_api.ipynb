{
 "cells": [
  {
   "cell_type": "code",
   "execution_count": 23,
   "metadata": {},
   "outputs": [],
   "source": [
    "import requests\n",
    "import pandas as pd\n",
    "import numpy as np\n",
    "import urllib.request, json\n",
    "import os\n",
    "from dotenv import load_dotenv"
   ]
  },
  {
   "cell_type": "code",
   "execution_count": 24,
   "metadata": {},
   "outputs": [],
   "source": [
    "# Load environment variables from .env\n",
    "load_dotenv('IH_final_project/venv/.env')\n",
    "\n",
    "# Access the API key\n",
    "api_key = 'wk16ayakxdj7FDw30SaTHOAhz5nvfnmvW59r4qxe'"
   ]
  },
  {
   "cell_type": "code",
   "execution_count": 21,
   "metadata": {},
   "outputs": [],
   "source": [
    "# Configure API request\n",
    "endpoint = endpoint = \"https://developer.nps.gov/api/v1/parks\"\n",
    "HEADERS = {\"X-Api-Key\":api_key}\n",
    "req = urllib.request.Request(endpoint,headers=HEADERS)\n",
    "# Additional code would follow"
   ]
  },
  {
   "cell_type": "code",
   "execution_count": 25,
   "metadata": {},
   "outputs": [
    {
     "name": "stdout",
     "output_type": "stream",
     "text": [
      "Alagnak Wild River\n",
      "Alaska Public Lands\n",
      "Aleutian Islands World War II National Historic Area\n",
      "Aniakchak National Monument & Preserve\n",
      "Bering Land Bridge National Preserve\n",
      "Cape Krusenstern National Monument\n",
      "Denali National Park & Preserve\n",
      "Gates Of The Arctic National Park & Preserve\n",
      "Glacier Bay National Park & Preserve\n",
      "Iñupiat Heritage Center\n",
      "Katmai National Park & Preserve\n",
      "Kenai Fjords National Park\n",
      "Klondike Gold Rush National Historical Park\n",
      "Kobuk Valley National Park\n",
      "Lake Clark National Park & Preserve\n",
      "Noatak National Preserve\n",
      "Sitka National Historical Park\n",
      "Wrangell - St Elias National Park & Preserve\n",
      "Yukon - Charley Rivers National Preserve\n"
     ]
    }
   ],
   "source": [
    "# Define request parameters (if any)\n",
    "params = {\n",
    "    \"stateCode\": \"AK\",  # Example: Fetch parks in California\n",
    "    \"api_key\": api_key  # Include API key if required\n",
    "}\n",
    "\n",
    "# Make the API request\n",
    "response = requests.get(endpoint, params=params)\n",
    "\n",
    "# Check if the request was successful (status code 200)\n",
    "if response.status_code == 200:\n",
    "    # Parse the JSON response\n",
    "    data = response.json()\n",
    "    \n",
    "    # Process the data as needed\n",
    "    parks = data[\"data\"]\n",
    "    for park in parks:\n",
    "        print(park[\"fullName\"])\n",
    "else:\n",
    "    print(\"Error:\", response.status_code)"
   ]
  },
  {
   "cell_type": "code",
   "execution_count": null,
   "metadata": {},
   "outputs": [],
   "source": []
  }
 ],
 "metadata": {
  "kernelspec": {
   "display_name": "Python 3",
   "language": "python",
   "name": "python3"
  },
  "language_info": {
   "codemirror_mode": {
    "name": "ipython",
    "version": 3
   },
   "file_extension": ".py",
   "mimetype": "text/x-python",
   "name": "python",
   "nbconvert_exporter": "python",
   "pygments_lexer": "ipython3",
   "version": "3.9.18"
  }
 },
 "nbformat": 4,
 "nbformat_minor": 2
}
