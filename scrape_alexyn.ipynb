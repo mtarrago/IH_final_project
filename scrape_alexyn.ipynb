{
 "cells": [
  {
   "cell_type": "code",
   "execution_count": 1,
   "metadata": {},
   "outputs": [],
   "source": [
    "#importing the necessary libraries\n",
    "import pandas as pd\n",
    "from bs4 import BeautifulSoup\n",
    "import requests\n",
    "import numpy as np"
   ]
  },
  {
   "cell_type": "code",
   "execution_count": 2,
   "metadata": {},
   "outputs": [],
   "source": [
    "# define the url of the page we want to scrape\n",
    "url = \"https://www.alexyn.com/nationalparkranking\"\n",
    "\n",
    "#requesting the information from the website\n",
    "response = requests.get(url)\n",
    "#analyze the html code\n",
    "soup = BeautifulSoup(response.content, 'html.parser')"
   ]
  },
  {
   "cell_type": "code",
   "execution_count": 3,
   "metadata": {},
   "outputs": [],
   "source": [
    "#storing the html code in an additional variable\n",
    "scraped = soup"
   ]
  },
  {
   "cell_type": "code",
   "execution_count": 4,
   "metadata": {},
   "outputs": [],
   "source": [
    "#finding the names of the parks within the list on the scraped website\n",
    "#scraped.find_all(name='h1',style=\"white-space:pre-wrap;\")"
   ]
  },
  {
   "cell_type": "code",
   "execution_count": 5,
   "metadata": {},
   "outputs": [],
   "source": [
    "#storing the list of the scraped names on a variable\n",
    "items = scraped.find_all(name='h1',style=\"white-space:pre-wrap;\")"
   ]
  },
  {
   "cell_type": "code",
   "execution_count": 6,
   "metadata": {},
   "outputs": [],
   "source": [
    "#reformatting the list to isolate the name\n",
    "items_list = []\n",
    "for i in items:\n",
    "    if '#' not in str(i):\n",
    "        i = str(i).replace('<h1 style=\"white-space:pre-wrap;\">','').replace('</h1>','').split(', ')\n",
    "        items_list.append(i)\n",
    "items_list.reverse()"
   ]
  },
  {
   "cell_type": "code",
   "execution_count": 7,
   "metadata": {},
   "outputs": [
    {
     "data": {
      "text/plain": [
       "['Glacier National Park',\n",
       " 'Yellowstone National Park',\n",
       " 'Yosemite National Park',\n",
       " 'Olympic National Park',\n",
       " 'Denali National Park',\n",
       " 'Katmai National Park',\n",
       " 'Wrangell-St. Elias National Park',\n",
       " 'Zion National Park',\n",
       " 'Grand Canyon National Park',\n",
       " 'Acadia National Park',\n",
       " 'Grand Tetons National Park',\n",
       " 'Isle Royale National Park',\n",
       " 'Kings Canyon National Park',\n",
       " 'Rocky Mountain National Park',\n",
       " 'Sequoia National Park',\n",
       " 'Death Valley National Park',\n",
       " 'North Cascades National Park',\n",
       " 'Hawai’i Volcanoes National Park',\n",
       " 'Big Bend National Park',\n",
       " 'Great Smoky Mountains National Park',\n",
       " 'Mount Rainier National Park',\n",
       " 'Joshua Tree National Park',\n",
       " 'Everglades National Park',\n",
       " 'Canyonlands National Park',\n",
       " 'Arches National Park',\n",
       " 'Lassen Volcanic National Park',\n",
       " 'Lake Clark National Park',\n",
       " 'Badlands National Park',\n",
       " 'Channel Islands National Park',\n",
       " 'Shenandoah National Park',\n",
       " 'Haleakala National Park',\n",
       " 'Kenai Fjords National Park',\n",
       " 'Glacier Bay National Park',\n",
       " 'Crater Lake National Park',\n",
       " 'Capitol Reef National Park',\n",
       " 'Bryce Canyon National Park',\n",
       " 'Gates of the Arctic National Park',\n",
       " 'Virgin Islands National Park',\n",
       " 'Voyageurs National Park',\n",
       " 'Redwood National Park',\n",
       " 'White Sands National Park',\n",
       " 'Great Basin National Park',\n",
       " 'Black Canyon of the Gunnison National Park',\n",
       " 'Saguaro National Park',\n",
       " 'Petrified Forest National Park',\n",
       " 'Dry Tortugas National Park',\n",
       " 'Great Sand Dunes National Park',\n",
       " 'Theodore Roosevelt National Park',\n",
       " 'Mammoth Cave National Park',\n",
       " 'Carlsbad Caverns National Park',\n",
       " 'Kobuk Valley National Park',\n",
       " 'Mesa Verde National Park',\n",
       " 'American Samoa National Park',\n",
       " 'Pinnacles National Park',\n",
       " 'Guadalupe Mountains National Park',\n",
       " 'New River Gorge National Park',\n",
       " 'Wind Cave National Park',\n",
       " 'Cuyahoga Valley National Park',\n",
       " 'Congaree National Park',\n",
       " 'Biscayne National Park',\n",
       " 'Indiana Sand Dunes National Park',\n",
       " 'Hot Spring National Park',\n",
       " 'Gateway Arch National Park']"
      ]
     },
     "execution_count": 7,
     "metadata": {},
     "output_type": "execute_result"
    }
   ],
   "source": [
    "# Remove brackets from each element\n",
    "my_list_without_brackets = [str(x).replace(\"['\", \"\").replace(\"']\", \"\") for x in items_list]\n",
    "#print the final list to check\n",
    "my_list_without_brackets"
   ]
  },
  {
   "cell_type": "code",
   "execution_count": 8,
   "metadata": {},
   "outputs": [],
   "source": [
    "#store the results in a DataFrame and save to csv\n",
    "final = pd.DataFrame({'rank_alexyn':(np.arange(1,len(my_list_without_brackets)+1)),'parks_ranked':my_list_without_brackets})\n",
    "final.to_csv('rank_alexyn.csv')"
   ]
  }
 ],
 "metadata": {
  "kernelspec": {
   "display_name": "Python 3",
   "language": "python",
   "name": "python3"
  },
  "language_info": {
   "codemirror_mode": {
    "name": "ipython",
    "version": 3
   },
   "file_extension": ".py",
   "mimetype": "text/x-python",
   "name": "python",
   "nbconvert_exporter": "python",
   "pygments_lexer": "ipython3",
   "version": "3.9.18"
  }
 },
 "nbformat": 4,
 "nbformat_minor": 2
}
